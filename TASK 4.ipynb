{
 "cells": [
  {
   "cell_type": "markdown",
   "id": "47cd0391-a2cc-42eb-9189-073dc0cc7ecf",
   "metadata": {},
   "source": [
    "# TASK 4"
   ]
  },
  {
   "cell_type": "markdown",
   "id": "c10c6ef6-b52e-40db-b783-411f2ae74a00",
   "metadata": {},
   "source": [
    "# RECOMMENDATION SYSTEM"
   ]
  },
  {
   "cell_type": "markdown",
   "id": "5ee35d0d-9091-41b7-ac82-5eb21a0b7000",
   "metadata": {},
   "source": [
    "## Create a simple recommendation system that suggests items tousers based on their preferences. You can use techniques like collaborative filtering or content-based filtering to recommend movies, books, or products to users."
   ]
  },
  {
   "cell_type": "code",
   "execution_count": 14,
   "id": "69d2bb2c-4a8c-4fea-b276-c9380c9061ef",
   "metadata": {},
   "outputs": [],
   "source": [
    "# Import Libraries\n",
    "import pandas as pd\n",
    "import matplotlib.pyplot as plt\n",
    "import seaborn as sns"
   ]
  },
  {
   "cell_type": "code",
   "execution_count": 15,
   "id": "afe009e7-0c08-432e-89b9-1a32f0e1216b",
   "metadata": {},
   "outputs": [],
   "source": [
    "# Load the dataset \n",
    "books = pd.read_csv(\"Books.csv\", encoding=\"ISO-8859-1\",dtype={\n",
    "        \"ISBN\": str,\n",
    "        \"Book-Title\": str,\n",
    "        \"Book-Author\": str,\n",
    "        \"Year-Of-Publication\": str, \n",
    "        \"Publisher\": str,\n",
    "        \"Image-URL-S\": str,\n",
    "        \"Image-URL-M\": str,\n",
    "        \"Image-URL-L\": str,\n",
    "    })\n",
    "ratings = pd.read_csv(\"Ratings.csv\", encoding=\"ISO-8859-1\")"
   ]
  },
  {
   "cell_type": "code",
   "execution_count": 16,
   "id": "02c7ea66-c573-4727-b68f-c946d6a40e88",
   "metadata": {},
   "outputs": [],
   "source": [
    "# Basic EDA \n",
    "def perform_eda(books, ratings):\n",
    "    \n",
    "    \n",
    "    # General Info about the datasets\n",
    "    print(\"Books Dataset Info:\")\n",
    "    print(books.info())\n",
    "    print(\"\\nRatings Dataset Info:\")\n",
    "    print(ratings.info())\n",
    "    \n",
    "    # Show top rows of the books and ratings data\n",
    "    print(\"\\nFirst 5 rows of books:\")\n",
    "    print(books.head())\n",
    "    print(\"\\nFirst 5 rows of ratings:\")\n",
    "    print(ratings.head())\n",
    "    \n",
    "    # Number of unique books, users, and ratings\n",
    "    print(\"\\nUnique books:\", len(books[\"ISBN\"].unique()))\n",
    "    print(\"Unique users:\", len(ratings[\"User-ID\"].unique()))\n",
    "    print(\"Total ratings:\", len(ratings))\n",
    "    \n",
    "    # Plot the distribution of ratings\n",
    "    plt.figure(figsize=(10, 6))\n",
    "    sns.histplot(ratings[\"Book-Rating\"], bins=5, kde=False, color=\"blue\")\n",
    "    plt.title(\"Distribution of Ratings\")\n",
    "    plt.xlabel(\"Rating\")\n",
    "    plt.ylabel(\"Frequency\")\n",
    "    plt.show()\n",
    "    \n",
    "    # Plot the number of ratings per book\n",
    "    book_rating_counts = ratings.groupby(\"ISBN\").size()\n",
    "    plt.figure(figsize=(10, 6))\n",
    "    sns.histplot(book_rating_counts, kde=False, color=\"green\")\n",
    "    plt.title(\"Number of Ratings per Book\")\n",
    "    plt.xlabel(\"Number of Ratings\")\n",
    "    plt.ylabel(\"Count of Books\")\n",
    "    plt.show()\n",
    "    \n",
    "    # Plot the number of ratings per user\n",
    "    user_rating_counts = ratings.groupby(\"User-ID\").size()\n",
    "    plt.figure(figsize=(10, 6))\n",
    "    sns.histplot(user_rating_counts, kde=False, color=\"orange\")\n",
    "    plt.title(\"Number of Ratings per User\")\n",
    "    plt.xlabel(\"Number of Ratings\")\n",
    "    plt.ylabel(\"Count of Users\")\n",
    "    plt.show()"
   ]
  },
  {
   "cell_type": "code",
   "execution_count": 17,
   "id": "46265f7d-a49f-4653-8425-e826e6f27f6a",
   "metadata": {},
   "outputs": [],
   "source": [
    "# Filter books and ratings to reduce dataset size \n",
    "popular_books = ratings[\"ISBN\"].value_counts().head(100).index \n",
    "filtered_books = books[books[\"ISBN\"].isin(popular_books)]\n",
    "filtered_ratings = ratings[ratings[\"ISBN\"].isin(popular_books)]"
   ]
  },
  {
   "cell_type": "code",
   "execution_count": 19,
   "id": "f0dfcc6b-e276-44db-8b7c-78ed2c5a981f",
   "metadata": {},
   "outputs": [],
   "source": [
    "# Merge books and ratings \n",
    "merged_data = pd.merge(filtered_ratings, filtered_books, on=\"ISBN\")"
   ]
  },
  {
   "cell_type": "code",
   "execution_count": 20,
   "id": "d488a2ba-66e9-4482-b5cb-cb00daafb5c2",
   "metadata": {},
   "outputs": [],
   "source": [
    "# Content-Based Recommendation\n",
    "def recommend_books_by_author(book_title, books, top_n=5):\n",
    "    \n",
    "    # Get the author of the selected book\n",
    "    author = books[books[\"Book-Title\"] == book_title][\"Book-Author\"].values[0]\n",
    "    \n",
    "    # Find other books by the same author\n",
    "    recommendations = books[books[\"Book-Author\"] == author]\n",
    "    recommendations = recommendations[recommendations[\"Book-Title\"] != book_title]\n",
    "    return recommendations[[\"Book-Title\", \"Book-Author\"]].head(top_n)\n"
   ]
  },
  {
   "cell_type": "code",
   "execution_count": 21,
   "id": "5f049d73-39a4-458c-8b00-22091a5bffaa",
   "metadata": {},
   "outputs": [],
   "source": [
    "# Collaborative Filtering\n",
    "def recommend_books_by_users(user_id, ratings, books, top_n=5):\n",
    "    \n",
    "    # Find books rated by the user\n",
    "    user_books = ratings[ratings[\"User-ID\"] == user_id][\"ISBN\"].tolist()\n",
    "    \n",
    "    # Find other users who rated the same books\n",
    "    similar_users = ratings[ratings[\"ISBN\"].isin(user_books)][\"User-ID\"].unique()\n",
    "    similar_users = [u for u in similar_users if u != user_id]\n",
    "    \n",
    "    # Get books rated by similar users but not by the target user\n",
    "    recommendations = ratings[ratings[\"User-ID\"].isin(similar_users)]\n",
    "    recommendations = recommendations[~recommendations[\"ISBN\"].isin(user_books)]\n",
    "    \n",
    "    # Recommend the most rated books\n",
    "    top_books = recommendations[\"ISBN\"].value_counts().head(top_n).index\n",
    "    return books[books[\"ISBN\"].isin(top_books)][[\"Book-Title\", \"Book-Author\"]]\n"
   ]
  },
  {
   "cell_type": "code",
   "execution_count": 22,
   "id": "63e68f1f-6a1f-49c4-ad5b-648dea0f9cca",
   "metadata": {},
   "outputs": [],
   "source": [
    "# Visualize Most Popular Books\n",
    "def plot_popular_books(books, ratings, top_n=10):\n",
    "    \n",
    "    top_books = ratings[\"ISBN\"].value_counts().head(top_n).index\n",
    "    book_titles = books[books[\"ISBN\"].isin(top_books)][\"Book-Title\"].values\n",
    "    counts = ratings[\"ISBN\"].value_counts().head(top_n).values\n",
    "\n",
    "    plt.figure(figsize=(10, 6))\n",
    "    sns.barplot(x=counts, y=book_titles, palette=\"viridis\")\n",
    "    plt.title(\"Top Rated Books\", fontsize=16)\n",
    "    plt.xlabel(\"Number of Ratings\", fontsize=12)\n",
    "    plt.ylabel(\"Book Titles\", fontsize=12)\n",
    "    plt.show()"
   ]
  },
  {
   "cell_type": "code",
   "execution_count": null,
   "id": "85a32947-3219-4287-a5c5-108bba682d5f",
   "metadata": {},
   "outputs": [
    {
     "name": "stdout",
     "output_type": "stream",
     "text": [
      "\n",
      "Performing EDA on Books and Ratings Datasets:\n",
      "Books Dataset Info:\n",
      "<class 'pandas.core.frame.DataFrame'>\n",
      "RangeIndex: 271360 entries, 0 to 271359\n",
      "Data columns (total 8 columns):\n",
      " #   Column               Non-Null Count   Dtype \n",
      "---  ------               --------------   ----- \n",
      " 0   ISBN                 271360 non-null  object\n",
      " 1   Book-Title           271360 non-null  object\n",
      " 2   Book-Author          271358 non-null  object\n",
      " 3   Year-Of-Publication  271360 non-null  object\n",
      " 4   Publisher            271358 non-null  object\n",
      " 5   Image-URL-S          271360 non-null  object\n",
      " 6   Image-URL-M          271360 non-null  object\n",
      " 7   Image-URL-L          271357 non-null  object\n",
      "dtypes: object(8)\n",
      "memory usage: 16.6+ MB\n",
      "None\n",
      "\n",
      "Ratings Dataset Info:\n",
      "<class 'pandas.core.frame.DataFrame'>\n",
      "RangeIndex: 1149780 entries, 0 to 1149779\n",
      "Data columns (total 3 columns):\n",
      " #   Column       Non-Null Count    Dtype \n",
      "---  ------       --------------    ----- \n",
      " 0   User-ID      1149780 non-null  int64 \n",
      " 1   ISBN         1149780 non-null  object\n",
      " 2   Book-Rating  1149780 non-null  int64 \n",
      "dtypes: int64(2), object(1)\n",
      "memory usage: 26.3+ MB\n",
      "None\n",
      "\n",
      "First 5 rows of books:\n",
      "         ISBN                                         Book-Title  \\\n",
      "0  0195153448                                Classical Mythology   \n",
      "1  0002005018                                       Clara Callan   \n",
      "2  0060973129                               Decision in Normandy   \n",
      "3  0374157065  Flu: The Story of the Great Influenza Pandemic...   \n",
      "4  0393045218                             The Mummies of Urumchi   \n",
      "\n",
      "            Book-Author Year-Of-Publication                   Publisher  \\\n",
      "0    Mark P. O. Morford                2002     Oxford University Press   \n",
      "1  Richard Bruce Wright                2001       HarperFlamingo Canada   \n",
      "2          Carlo D'Este                1991             HarperPerennial   \n",
      "3      Gina Bari Kolata                1999        Farrar Straus Giroux   \n",
      "4       E. J. W. Barber                1999  W. W. Norton &amp; Company   \n",
      "\n",
      "                                         Image-URL-S  \\\n",
      "0  http://images.amazon.com/images/P/0195153448.0...   \n",
      "1  http://images.amazon.com/images/P/0002005018.0...   \n",
      "2  http://images.amazon.com/images/P/0060973129.0...   \n",
      "3  http://images.amazon.com/images/P/0374157065.0...   \n",
      "4  http://images.amazon.com/images/P/0393045218.0...   \n",
      "\n",
      "                                         Image-URL-M  \\\n",
      "0  http://images.amazon.com/images/P/0195153448.0...   \n",
      "1  http://images.amazon.com/images/P/0002005018.0...   \n",
      "2  http://images.amazon.com/images/P/0060973129.0...   \n",
      "3  http://images.amazon.com/images/P/0374157065.0...   \n",
      "4  http://images.amazon.com/images/P/0393045218.0...   \n",
      "\n",
      "                                         Image-URL-L  \n",
      "0  http://images.amazon.com/images/P/0195153448.0...  \n",
      "1  http://images.amazon.com/images/P/0002005018.0...  \n",
      "2  http://images.amazon.com/images/P/0060973129.0...  \n",
      "3  http://images.amazon.com/images/P/0374157065.0...  \n",
      "4  http://images.amazon.com/images/P/0393045218.0...  \n",
      "\n",
      "First 5 rows of ratings:\n",
      "   User-ID        ISBN  Book-Rating\n",
      "0   276725  034545104X            0\n",
      "1   276726  0155061224            5\n",
      "2   276727  0446520802            0\n",
      "3   276729  052165615X            3\n",
      "4   276729  0521795028            6\n",
      "\n",
      "Unique books: 271360\n",
      "Unique users: 105283\n",
      "Total ratings: 1149780\n"
     ]
    },
    {
     "data": {
      "image/png": "[encoded data removed]",
      "text/plain": [
       "<Figure size 1000x600 with 1 Axes>"
      ]
     },
     "metadata": {},
     "output_type": "display_data"
    }
   ],
   "source": [
    "print(\"\\nPerforming EDA on Books and Ratings Datasets:\")\n",
    "perform_eda(books, ratings)\n",
    "\n",
    "print(\"\\nContent-Based Recommendations for 'The Da Vinci Code':\")\n",
    "print(recommend_books_by_author(\"The Da Vinci Code\", filtered_books, top_n=5))\n",
    "\n",
    "print(\"\\nCollaborative Filtering Recommendations for User 276725:\")\n",
    "print(recommend_books_by_users(276725, filtered_ratings, filtered_books, top_n=5))\n",
    "\n"
   ]
  },
  {
   "cell_type": "code",
   "execution_count": null,
   "id": "b058158c-89dc-4072-82ba-aedad4be88d9",
   "metadata": {},
   "outputs": [],
   "source": [
    "# Plot the most popular books\n",
    "print(\"\\nVisualizing the Most Popular Books:\")\n",
    "plot_popular_books(filtered_books, filtered_ratings, top_n=10)"
   ]
  },
  {
   "cell_type": "code",
   "execution_count": null,
   "id": "855f1a9c-aabc-4103-bcdd-99149d845ce8",
   "metadata": {},
   "outputs": [],
   "source": []
  }
 ],
 "metadata": {
  "kernelspec": {
   "display_name": "Python 3 (ipykernel)",
   "language": "python",
   "name": "python3"
  },
  "language_info": {
   "codemirror_mode": {
    "name": "ipython",
    "version": 3
   },
   "file_extension": ".py",
   "mimetype": "text/x-python",
   "name": "python",
   "nbconvert_exporter": "python",
   "pygments_lexer": "ipython3",
   "version": "3.11.5"
  }
 },
 "nbformat": 4,
 "nbformat_minor": 5
}
