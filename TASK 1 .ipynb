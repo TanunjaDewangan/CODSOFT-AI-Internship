{
 "cells": [
  {
   "cell_type": "markdown",
   "id": "1c1075cc-7b5f-4890-ad80-12a9a81f8690",
   "metadata": {},
   "source": [
    "# CHATBOT WITH RULE-BASED RESPONSES"
   ]
  },
  {
   "cell_type": "markdown",
   "id": "e1e9a376-4325-4cbe-8a2a-350926d0ca6a",
   "metadata": {},
   "source": [
    "## Build a simple chatbot that responds to user inputs based onpredefined rules. \n",
    "## Use if-else statements or pattern matchingtechniques to identify user queries and provide appropriateresponses. \n",
    "## This will give you a basic understanding of naturallanguage processing and conversation flow."
   ]
  },
  {
   "cell_type": "code",
   "execution_count": 72,
   "id": "2a6f339a-9563-4297-9a2d-456029e8c6b6",
   "metadata": {},
   "outputs": [],
   "source": [
    "# Importing Libraries\n",
    "import tkinter as tk\n",
    "from tkinter import scrolledtext\n",
    "from datetime import datetime\n",
    "import random"
   ]
  },
  {
   "cell_type": "code",
   "execution_count": 74,
   "id": "1cf226e3-b29f-45ca-9c59-c39a7043909b",
   "metadata": {},
   "outputs": [],
   "source": [
    "def chatbot_response(user_input):\n",
    "    user_input = user_input.lower()\n",
    "\n",
    "# Rule-based responses\n",
    "    if \"hello\" in user_input or \"hi\" in user_input:\n",
    "        return \"Hello! How can I assist you today?\"\n",
    "\n",
    "    elif \"your name\" in user_input:\n",
    "        return \"I'm your friendly chatbot!\"\n",
    "\n",
    "    elif \"help\" in user_input:\n",
    "        return \"Sure, let me know what you need help with.\"\n",
    "\n",
    "    elif \"how are you\" in user_input:\n",
    "        return \"I'm just a program, but I'm functioning as expected!\"\n",
    "\n",
    "    elif \"thank you\" in user_input or \"thanks\" in user_input:\n",
    "        return \"You're welcome!\"\n",
    "\n",
    "    elif \"time\" in user_input:\n",
    "        from datetime import datetime\n",
    "        return f\"The current time is {datetime.now().strftime('%H:%M:%S')}.\"\n",
    "\n",
    "    elif \"date\" in user_input:\n",
    "        from datetime import datetime\n",
    "        return f\"Today's date is {datetime.now().strftime('%Y-%m-%d')}.\"\n",
    "\n",
    "    elif \"weather\" in user_input:\n",
    "        return \"I'm not connected to live weather updates, but it's always sunny when we chat!\"\n",
    "\n",
    "    elif \"motivate\" in user_input or \"quote\" in user_input:\n",
    "        quotes = [\n",
    "            \"Believe in yourself! You can do it!\",\n",
    "            \"The only way to do great work is to love what you do. - Steve Jobs\",\n",
    "            \"Don't watch the clock; do what it does. Keep going. - Sam Levenson\"\n",
    "        ]\n",
    "        return random.choice(quotes)\n",
    "\n",
    "    elif \"favorite\" in user_input:\n",
    "        if \"color\" in user_input:\n",
    "            return \"My favorite color is blue! What's yours?\"\n",
    "\n",
    "        elif \"food\" in user_input:\n",
    "            return \"I don't eat, but I hear pizza is a favorite for many!\"\n",
    "\n",
    "        elif \"movie\" in user_input:\n",
    "            return \"I'm a fan of 'The Matrix'—very relatable for a program like me!\"\n",
    "        else:\n",
    "            return \"I have lots of favorites, but I want to hear about yours!\"\n",
    "\n",
    "    elif \"bye\" in user_input or \"exit\" in user_input:\n",
    "        return \"Goodbye! Have a great day!\"\n",
    "\n",
    "    else:\n",
    "        return \"I'm sorry, I didn't understand that. Can you rephrase?\"\n"
   ]
  },
  {
   "cell_type": "code",
   "execution_count": 76,
   "id": "4f662e14-c014-43dd-9376-e205baea7f92",
   "metadata": {},
   "outputs": [],
   "source": [
    "# Function to send messages\n",
    "def send_message():\n",
    "    user_input = user_entry.get()\n",
    "    if user_input.strip():\n",
    "        # Add user's message to chat history with color\n",
    "        chat_history.insert(tk.END, f\"You: {user_input}\\n\", \"user_message\")\n",
    "        \n",
    "        # Get chatbot's response\n",
    "        response = chatbot_response(user_input)\n",
    "        chat_history.insert(tk.END, f\"Bot: {response}\\n\\n\", \"bot_message\")\n",
    "        \n",
    "        # Clear the input box\n",
    "        user_entry.delete(0, tk.END)\n",
    "        \n",
    "        # Exit the application if the user says \"bye\" or \"exit\"\n",
    "        if \"bye\" in user_input.lower() or \"exit\" in user_input.lower():\n",
    "            root.after(1000, root.destroy)"
   ]
  },
  {
   "cell_type": "code",
   "execution_count": 78,
   "id": "0bc249bf-4e2d-41e2-b173-977face1c89f",
   "metadata": {},
   "outputs": [],
   "source": [
    "# Create the main application window\n",
    "root = tk.Tk()\n",
    "root.title(\"Colorful Chatbot\")\n",
    "root.configure(bg=\"#e8f4f8\")  # Background color for the main window\n",
    "\n",
    "# Chat history display\n",
    "chat_history = scrolledtext.ScrolledText(root, wrap=tk.WORD, state='normal', height=20, width=50, bg=\"#ffffff\", fg=\"#333333\")\n",
    "chat_history.grid(row=0, column=0, columnspan=2, padx=10, pady=10)\n",
    "\n",
    "# Custom tags for coloring messages\n",
    "chat_history.tag_config(\"user_message\", foreground=\"#1a73e8\", font=(\"Arial\", 10, \"bold\"))\n",
    "chat_history.tag_config(\"bot_message\", foreground=\"#0b8043\", font=(\"Arial\", 10, \"italic\"))\n",
    "\n",
    "# Entry box for user input\n",
    "user_entry = tk.Entry(root, width=40, font=(\"Arial\", 12))\n",
    "user_entry.grid(row=1, column=0, padx=10, pady=10)\n",
    "\n",
    "# Send button\n",
    "send_button = tk.Button(root, text=\"Send\", command=send_message, bg=\"#4285f4\", fg=\"#ffffff\", font=(\"Arial\", 12, \"bold\"))\n",
    "send_button.grid(row=1, column=1, padx=10, pady=10)\n",
    "\n",
    "# Run the application\n",
    "root.mainloop()"
   ]
  },
  {
   "cell_type": "code",
   "execution_count": null,
   "id": "60832735-82de-4c0e-a58b-fba15c15f9a4",
   "metadata": {},
   "outputs": [],
   "source": []
  }
 ],
 "metadata": {
  "kernelspec": {
   "display_name": "Python 3 (ipykernel)",
   "language": "python",
   "name": "python3"
  },
  "language_info": {
   "codemirror_mode": {
    "name": "ipython",
    "version": 3
   },
   "file_extension": ".py",
   "mimetype": "text/x-python",
   "name": "python",
   "nbconvert_exporter": "python",
   "pygments_lexer": "ipython3",
   "version": "3.11.5"
  }
 },
 "nbformat": 4,
 "nbformat_minor": 5
}
