{
 "cells": [
  {
   "cell_type": "markdown",
   "id": "8455d540-eb6f-46e0-8192-178667193bbc",
   "metadata": {},
   "source": [
    "# TIC-TAC-TOE AI"
   ]
  },
  {
   "cell_type": "markdown",
   "id": "e2e75ec4-2b5f-402e-9973-d1416105ecda",
   "metadata": {},
   "source": [
    "## Implement an AI agent that plays the classic game of Tic-Tac-Toe against a human player. You can use algorithms like Minimax with or without Alpha-Beta Pruning to make the AI player unbeatable.This project will help you understand game theory and basic search algorithms."
   ]
  },
  {
   "cell_type": "code",
   "execution_count": 5,
   "id": "a2f1c0ea-648a-44e5-ab0b-9a0c4efdd424",
   "metadata": {},
   "outputs": [],
   "source": [
    "# Import Libraries\n",
    "import tkinter as tk\n",
    "from tkinter import messagebox\n",
    "import copy"
   ]
  },
  {
   "cell_type": "code",
   "execution_count": 7,
   "id": "6d747c5d-cb0d-4694-91ac-52ae679ca5af",
   "metadata": {},
   "outputs": [],
   "source": [
    "# Constants\n",
    "PLAYER = \"X\"\n",
    "AI = \"O\"\n"
   ]
  },
  {
   "cell_type": "code",
   "execution_count": 9,
   "id": "b5be134f-d603-439b-b348-207a14793249",
   "metadata": {},
   "outputs": [],
   "source": [
    "# Initialize the board\n",
    "board = [[\"\" for _ in range(3)] for _ in range(3)]"
   ]
  },
  {
   "cell_type": "code",
   "execution_count": 11,
   "id": "13113589-e28a-45f4-a08b-c56407d15774",
   "metadata": {},
   "outputs": [],
   "source": [
    "# Check if there are any moves left\n",
    "def is_moves_left(board):\n",
    "    for row in board:\n",
    "        if \"\" in row:\n",
    "            return True\n",
    "    return False"
   ]
  },
  {
   "cell_type": "code",
   "execution_count": 13,
   "id": "8e059c8c-72cf-4bb7-bf9b-2418c9460880",
   "metadata": {},
   "outputs": [],
   "source": [
    "# Evaluate the board\n",
    "def evaluate(board):\n",
    "    # Check rows for a win\n",
    "    for row in board:\n",
    "        if row[0] == row[1] == row[2] and row[0] != \"\":\n",
    "            return 10 if row[0] == AI else -10\n",
    "\n",
    "    # Check columns for a win\n",
    "    for col in range(3):\n",
    "        if board[0][col] == board[1][col] == board[2][col] and board[0][col] != \"\":\n",
    "            return 10 if board[0][col] == AI else -10\n",
    "\n",
    "    # Check diagonals for a win\n",
    "    if board[0][0] == board[1][1] == board[2][2] and board[0][0] != \"\":\n",
    "        return 10 if board[0][0] == AI else -10\n",
    "    if board[0][2] == board[1][1] == board[2][0] and board[0][2] != \"\":\n",
    "        return 10 if board[0][2] == AI else -10\n",
    "\n",
    "    return 0"
   ]
  },
  {
   "cell_type": "code",
   "execution_count": 15,
   "id": "e770b1d0-0a3d-46a5-b347-05f836ad225e",
   "metadata": {},
   "outputs": [],
   "source": [
    "# Minimax algorithm\n",
    "def minimax(board, depth, is_maximizing):\n",
    "    score = evaluate(board)\n",
    "\n",
    "    # If AI wins\n",
    "    if score == 10:\n",
    "        return score - depth\n",
    "\n",
    "    # If Player wins\n",
    "    if score == -10:\n",
    "        return score + depth\n",
    "\n",
    "    # If no moves left (draw)\n",
    "    if not is_moves_left(board):\n",
    "        return 0\n",
    "\n",
    "    # Maximizer's move (AI)\n",
    "    if is_maximizing:\n",
    "        best = -float(\"inf\")\n",
    "        for i in range(3):\n",
    "            for j in range(3):\n",
    "                if board[i][j] == \"\":\n",
    "                    board[i][j] = AI\n",
    "                    best = max(best, minimax(board, depth + 1, False))\n",
    "                    board[i][j] = \"\"\n",
    "        return best\n",
    "\n",
    "    # Minimizer's move (Player)\n",
    "    else:\n",
    "        best = float(\"inf\")\n",
    "        for i in range(3):\n",
    "            for j in range(3):\n",
    "                if board[i][j] == \"\":\n",
    "                    board[i][j] = PLAYER\n",
    "                    best = min(best, minimax(board, depth + 1, True))\n",
    "                    board[i][j] = \"\"\n",
    "        return best\n"
   ]
  },
  {
   "cell_type": "code",
   "execution_count": 17,
   "id": "fed2982d-1699-4852-8f77-d402640e30fd",
   "metadata": {},
   "outputs": [],
   "source": [
    "# Find the best move for AI\n",
    "def find_best_move(board):\n",
    "    best_val = -float(\"inf\")\n",
    "    best_move = (-1, -1)\n",
    "\n",
    "    for i in range(3):\n",
    "        for j in range(3):\n",
    "            if board[i][j] == \"\":\n",
    "                board[i][j] = AI\n",
    "                move_val = minimax(board, 0, False)\n",
    "                board[i][j] = \"\"\n",
    "                if move_val > best_val:\n",
    "                    best_val = move_val\n",
    "                    best_move = (i, j)\n",
    "    return best_move"
   ]
  },
  {
   "cell_type": "code",
   "execution_count": 19,
   "id": "bd1523cd-bfc4-4f08-bc8f-2856306cf5ed",
   "metadata": {},
   "outputs": [],
   "source": [
    "# Handle button click\n",
    "def button_click(row, col):\n",
    "    if board[row][col] == \"\" and not check_winner():\n",
    "        board[row][col] = PLAYER\n",
    "        buttons[row][col].config(text=PLAYER, bg=\"#ffeb3b\", fg=\"#000000\")  # Yellow for Player\n",
    "\n",
    "        if check_winner():\n",
    "            messagebox.showinfo(\"Game Over\", f\"{check_winner()} wins!\")\n",
    "            reset_board()\n",
    "            return\n",
    "\n",
    "        if not is_moves_left(board):\n",
    "            messagebox.showinfo(\"Game Over\", \"It's a draw!\")\n",
    "            reset_board()\n",
    "            return\n",
    "\n",
    "        ai_move = find_best_move(copy.deepcopy(board))\n",
    "        board[ai_move[0]][ai_move[1]] = AI\n",
    "        buttons[ai_move[0]][ai_move[1]].config(text=AI, bg=\"#03a9f4\", fg=\"#ffffff\")  # Blue for AI\n",
    "\n",
    "        if check_winner():\n",
    "            messagebox.showinfo(\"Game Over\", f\"{check_winner()} wins!\")\n",
    "            reset_board()\n",
    "            return\n",
    "\n",
    "        if not is_moves_left(board):\n",
    "            messagebox.showinfo(\"Game Over\", \"It's a draw!\")\n",
    "            reset_board()\n"
   ]
  },
  {
   "cell_type": "code",
   "execution_count": 21,
   "id": "4d082a3f-6fe8-499d-bbeb-75732a3df534",
   "metadata": {},
   "outputs": [],
   "source": [
    "# Check for a winner\n",
    "def check_winner():\n",
    "    for row in board:\n",
    "        if row[0] == row[1] == row[2] and row[0] != \"\":\n",
    "            return row[0]\n",
    "\n",
    "    for col in range(3):\n",
    "        if board[0][col] == board[1][col] == board[2][col] and board[0][col] != \"\":\n",
    "            return board[0][col]\n",
    "\n",
    "    if board[0][0] == board[1][1] == board[2][2] and board[0][0] != \"\":\n",
    "        return board[0][0]\n",
    "    if board[0][2] == board[1][1] == board[2][0] and board[0][2] != \"\":\n",
    "        return board[0][2]\n",
    "\n",
    "    return None"
   ]
  },
  {
   "cell_type": "code",
   "execution_count": 25,
   "id": "047a71db-cfcd-4dc8-898c-4bc04292a8cf",
   "metadata": {},
   "outputs": [],
   "source": [
    "# Reset the board\n",
    "def reset_board():\n",
    "    global board\n",
    "    board = [[\"\" for _ in range(3)] for _ in range(3)]\n",
    "    for row in range(3):\n",
    "        for col in range(3):\n",
    "            buttons[row][col].config(text=\"\", bg=\"#cfd8dc\")  "
   ]
  },
  {
   "cell_type": "code",
   "execution_count": 31,
   "id": "8e01299d-d0e2-48f3-954d-15d3f2a7cb02",
   "metadata": {},
   "outputs": [],
   "source": [
    "# Create the main window\n",
    "root = tk.Tk()\n",
    "root.title(\"Tic-Tac-Toe\")\n",
    "root.configure(bg=\"#eceff1\")  \n",
    "buttons = [[None for _ in range(3)] for _ in range(3)]"
   ]
  },
  {
   "cell_type": "code",
   "execution_count": 33,
   "id": "41f0e1f2-37ad-477e-a128-04bc079a9530",
   "metadata": {},
   "outputs": [],
   "source": [
    "# Create buttons for the grid\n",
    "for i in range(3):\n",
    "    for j in range(3):\n",
    "        buttons[i][j] = tk.Button(root, text=\"\", font=(\"Arial\", 24), height=2, width=5,\n",
    "                                  bg=\"#cfd8dc\", fg=\"#000000\",  # Default button color\n",
    "                                  command=lambda row=i, col=j: button_click(row, col))\n",
    "        buttons[i][j].grid(row=i, column=j, padx=5, pady=5)\n",
    "\n",
    "# Run the application\n",
    "root.mainloop()"
   ]
  },
  {
   "cell_type": "code",
   "execution_count": null,
   "id": "d5db9f50-6173-4f14-80a9-137f9f96bab6",
   "metadata": {},
   "outputs": [],
   "source": []
  }
 ],
 "metadata": {
  "kernelspec": {
   "display_name": "Python 3 (ipykernel)",
   "language": "python",
   "name": "python3"
  },
  "language_info": {
   "codemirror_mode": {
    "name": "ipython",
    "version": 3
   },
   "file_extension": ".py",
   "mimetype": "text/x-python",
   "name": "python",
   "nbconvert_exporter": "python",
   "pygments_lexer": "ipython3",
   "version": "3.11.5"
  }
 },
 "nbformat": 4,
 "nbformat_minor": 5
}
